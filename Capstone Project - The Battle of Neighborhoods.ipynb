{
    "cells": [
        {
            "metadata": {
                "collapsed": true
            },
            "cell_type": "markdown",
            "source": "# Capstone Project - The Battle of Neighborhoods"
        },
        {
            "metadata": {},
            "cell_type": "markdown",
            "source": "## Introduction"
        },
        {
            "metadata": {},
            "cell_type": "markdown",
            "source": "Strategically locating business enterprise has been proven to be a backbone to business success. This makes the difference usually, between the average and the greats of companies.\n\nAs a startup company, efficiently deploying resources and having a maximum Return on Investment (ROI) could buy more operational relevance in the market. For this reason it is important to be properly positioned to maximize available resources that helps the business meet its set out objectives.\n\nIn this company, we embark on a research to help our client find the best location for their enterprise.\n\nLeveraging the Foursquare Places API we will explore the possibilities in their locations of choice"
        },
        {
            "metadata": {},
            "cell_type": "markdown",
            "source": "## Business Problem\n"
        },
        {
            "metadata": {},
            "cell_type": "markdown",
            "source": "Given a list of choice locations, \n- Can we advise our users as to the best location for their business of choice\n- Given exploration data, what class of business can thrive in the given locations, and why?"
        },
        {
            "metadata": {},
            "cell_type": "markdown",
            "source": "## Data\n"
        },
        {
            "metadata": {},
            "cell_type": "markdown",
            "source": "The Foursquare Places API will be employed to solve the problem with key points including but not limited to the following:\n- Coordinate of popular neighbourhoods under consideration\n- Popular outlets\n- "
        }
    ],
    "metadata": {
        "kernelspec": {
            "name": "python3",
            "display_name": "Python 3.7",
            "language": "python"
        },
        "language_info": {
            "name": "python",
            "version": "3.7.9",
            "mimetype": "text/x-python",
            "codemirror_mode": {
                "name": "ipython",
                "version": 3
            },
            "pygments_lexer": "ipython3",
            "nbconvert_exporter": "python",
            "file_extension": ".py"
        }
    },
    "nbformat": 4,
    "nbformat_minor": 1
}